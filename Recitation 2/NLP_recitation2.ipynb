{
  "nbformat": 4,
  "nbformat_minor": 0,
  "metadata": {
    "colab": {
      "provenance": []
    },
    "kernelspec": {
      "name": "python3",
      "display_name": "Python 3"
    },
    "language_info": {
      "name": "python"
    }
  },
  "cells": [
    {
      "cell_type": "markdown",
      "source": [
        "Co-occurence matrix example"
      ],
      "metadata": {
        "id": "009-DTgNN3qU"
      }
    },
    {
      "cell_type": "code",
      "source": [
        "# Step 1: Import necessary libraries\n",
        "import numpy as np\n",
        "from collections import defaultdict"
      ],
      "metadata": {
        "id": "9vR-hx0uFBSR"
      },
      "execution_count": null,
      "outputs": []
    },
    {
      "cell_type": "code",
      "source": [
        "# Step 2: Define a simple text corpus\n",
        "corpus = [\n",
        "    \"I like to learn NLP\",\n",
        "    \"NLP is interesting\",\n",
        "    \"NLP helps in text analysis\",\n",
        "    \"Text analysis is important\",\n",
        "]\n"
      ],
      "metadata": {
        "id": "jQExvvLSFIB5"
      },
      "execution_count": null,
      "outputs": []
    },
    {
      "cell_type": "code",
      "source": [
        "# Step 3: Tokenize the corpus\n",
        "tokens = [sentence.split() for sentence in corpus]"
      ],
      "metadata": {
        "id": "we6MPM_9FIGm"
      },
      "execution_count": null,
      "outputs": []
    },
    {
      "cell_type": "code",
      "source": [
        "tokens"
      ],
      "metadata": {
        "colab": {
          "base_uri": "https://localhost:8080/"
        },
        "id": "xpfAAa0fFo76",
        "outputId": "12e46127-19c7-4bf9-b6ca-57c64867df63"
      },
      "execution_count": null,
      "outputs": [
        {
          "output_type": "execute_result",
          "data": {
            "text/plain": [
              "[['I', 'like', 'to', 'learn', 'NLP'],\n",
              " ['NLP', 'is', 'interesting'],\n",
              " ['NLP', 'helps', 'in', 'text', 'analysis'],\n",
              " ['Text', 'analysis', 'is', 'important']]"
            ]
          },
          "metadata": {},
          "execution_count": 4
        }
      ]
    },
    {
      "cell_type": "code",
      "source": [
        "# Step 4: Define the context window size\n",
        "window_size = 2  # You can adjust this based on your preference\n",
        "\n",
        "# We set the context window size to 2, which means that we will\n",
        "#consider two words to the left and two words to the right of the target word as its context."
      ],
      "metadata": {
        "id": "HiXi6SWUFIJ_"
      },
      "execution_count": null,
      "outputs": []
    },
    {
      "cell_type": "code",
      "source": [
        "# Step 5: Initialize a co-occurrence matrix\n",
        "vocab = set(word for sentence in tokens for word in sentence)\n",
        "vocab_size = len(vocab)\n",
        "co_occurrence_matrix = np.zeros((vocab_size, vocab_size))\n",
        "\n",
        "# We initialize a co-occurrence matrix filled with zeros, where the rows and columns represent words in the vocabulary."
      ],
      "metadata": {
        "id": "IYD6wIZWFIN3"
      },
      "execution_count": null,
      "outputs": []
    },
    {
      "cell_type": "code",
      "source": [
        "co_occurrence_matrix"
      ],
      "metadata": {
        "colab": {
          "base_uri": "https://localhost:8080/"
        },
        "id": "gP_DBgHSFrPd",
        "outputId": "29f9b904-4c3f-4958-ce9d-f8807ef72563"
      },
      "execution_count": null,
      "outputs": [
        {
          "output_type": "execute_result",
          "data": {
            "text/plain": [
              "array([[0., 0., 0., 0., 0., 0., 0., 0., 0., 0., 0., 0., 0.],\n",
              "       [0., 0., 0., 0., 0., 0., 0., 0., 0., 0., 0., 0., 0.],\n",
              "       [0., 0., 0., 0., 0., 0., 0., 0., 0., 0., 0., 0., 0.],\n",
              "       [0., 0., 0., 0., 0., 0., 0., 0., 0., 0., 0., 0., 0.],\n",
              "       [0., 0., 0., 0., 0., 0., 0., 0., 0., 0., 0., 0., 0.],\n",
              "       [0., 0., 0., 0., 0., 0., 0., 0., 0., 0., 0., 0., 0.],\n",
              "       [0., 0., 0., 0., 0., 0., 0., 0., 0., 0., 0., 0., 0.],\n",
              "       [0., 0., 0., 0., 0., 0., 0., 0., 0., 0., 0., 0., 0.],\n",
              "       [0., 0., 0., 0., 0., 0., 0., 0., 0., 0., 0., 0., 0.],\n",
              "       [0., 0., 0., 0., 0., 0., 0., 0., 0., 0., 0., 0., 0.],\n",
              "       [0., 0., 0., 0., 0., 0., 0., 0., 0., 0., 0., 0., 0.],\n",
              "       [0., 0., 0., 0., 0., 0., 0., 0., 0., 0., 0., 0., 0.],\n",
              "       [0., 0., 0., 0., 0., 0., 0., 0., 0., 0., 0., 0., 0.]])"
            ]
          },
          "metadata": {},
          "execution_count": 7
        }
      ]
    },
    {
      "cell_type": "code",
      "source": [
        "# Step 6: Create the co-occurrence matrix\n",
        "for sentence in tokens:\n",
        "    for i, target_word in enumerate(sentence):\n",
        "        # Determine the context window for each target word\n",
        "        start = max(0, i - window_size)\n",
        "        end = min(len(sentence), i + window_size + 1)\n",
        "        context = sentence[start:end]\n",
        "\n",
        "        # Increment co-occurrence counts within the context window\n",
        "        target_index = list(vocab).index(target_word)\n",
        "        for word in context:\n",
        "            context_index = list(vocab).index(word)\n",
        "            co_occurrence_matrix[target_index][context_index] += 1\n",
        "\n",
        "\n",
        "#We iterate through the tokenized sentences, calculate the context for each target word,\n",
        "#and increment the co-occurrence counts in the matrix based on the words in the context.\n"
      ],
      "metadata": {
        "id": "dmV9jIfGFIQ_"
      },
      "execution_count": null,
      "outputs": []
    },
    {
      "cell_type": "code",
      "source": [
        "# Step 7: Print the co-occurrence matrix\n",
        "print(\"Co-occurrence Matrix:\")\n",
        "print(co_occurrence_matrix)\n"
      ],
      "metadata": {
        "colab": {
          "base_uri": "https://localhost:8080/"
        },
        "id": "mvPZTzsDFITo",
        "outputId": "3a94d821-b27f-48f6-937c-5fa2b02c95cf"
      },
      "execution_count": null,
      "outputs": [
        {
          "output_type": "stream",
          "name": "stdout",
          "text": [
            "Co-occurrence Matrix:\n",
            "[[1. 1. 0. 0. 0. 1. 0. 0. 0. 0. 1. 0. 0.]\n",
            " [1. 1. 1. 0. 0. 1. 0. 0. 0. 0. 1. 0. 0.]\n",
            " [0. 1. 2. 1. 0. 0. 0. 0. 1. 0. 1. 1. 0.]\n",
            " [0. 0. 1. 1. 0. 0. 0. 0. 0. 0. 0. 1. 0.]\n",
            " [0. 0. 0. 0. 1. 0. 1. 1. 0. 1. 0. 0. 0.]\n",
            " [1. 1. 0. 0. 0. 3. 1. 1. 0. 0. 0. 1. 1.]\n",
            " [0. 0. 0. 0. 1. 1. 1. 1. 0. 1. 0. 0. 0.]\n",
            " [0. 0. 0. 0. 1. 1. 1. 1. 0. 0. 0. 0. 0.]\n",
            " [0. 0. 1. 0. 0. 0. 0. 0. 1. 0. 0. 1. 0.]\n",
            " [0. 0. 0. 0. 1. 0. 1. 0. 0. 1. 0. 0. 0.]\n",
            " [1. 1. 1. 0. 0. 0. 0. 0. 0. 0. 1. 0. 0.]\n",
            " [0. 0. 1. 1. 0. 1. 0. 0. 1. 0. 0. 2. 1.]\n",
            " [0. 0. 0. 0. 0. 1. 0. 0. 0. 0. 0. 1. 1.]]\n"
          ]
        }
      ]
    },
    {
      "cell_type": "code",
      "source": [],
      "metadata": {
        "id": "J_a0mtG6Hc8D"
      },
      "execution_count": null,
      "outputs": []
    },
    {
      "cell_type": "markdown",
      "source": [
        "# Neural Network example"
      ],
      "metadata": {
        "id": "cri7uDmBHddw"
      }
    },
    {
      "cell_type": "code",
      "source": [
        "import numpy as np\n",
        "\n",
        "# Step 1: Define the neural network architecture\n",
        "class SimpleNeuralNetwork:\n",
        "    def __init__(self):\n",
        "        # Initialize weights and bias with random values\n",
        "        self.weight = np.random.rand()\n",
        "        self.bias = np.random.rand()\n",
        "\n",
        "    def forward(self, x):\n",
        "        # Forward propagation\n",
        "        z = self.weight * x + self.bias\n",
        "        return z\n",
        "\n",
        "    def backward(self, x, dz):\n",
        "        # Backward propagation to compute gradients\n",
        "        dw = x * dz  # Gradient of loss with respect to weight\n",
        "        db = dz      # Gradient of loss with respect to bias\n",
        "        return dw, db"
      ],
      "metadata": {
        "id": "EwEFzH98Ln2B"
      },
      "execution_count": null,
      "outputs": []
    },
    {
      "cell_type": "code",
      "source": [
        "# Step 2: Create an instance of the neural network\n",
        "network = SimpleNeuralNetwork()\n"
      ],
      "metadata": {
        "id": "dtcQDPtSLn5o"
      },
      "execution_count": null,
      "outputs": []
    },
    {
      "cell_type": "code",
      "source": [
        "# Step 3: Define input and target values\n",
        "x = 2.0                # Input value\n",
        "target = 4.0           # Target output value (desired prediction)"
      ],
      "metadata": {
        "id": "QwnZ5H8lLn9B"
      },
      "execution_count": null,
      "outputs": []
    },
    {
      "cell_type": "code",
      "source": [
        "\n",
        "# Step 4: Hyperparameters\n",
        "learning_rate = 0.01   # Learning rate"
      ],
      "metadata": {
        "id": "o7cZN-EdLoAZ"
      },
      "execution_count": null,
      "outputs": []
    },
    {
      "cell_type": "code",
      "source": [
        "# Step 5: Training (forward and backward propagation)\n",
        "for epoch in range(10):\n",
        "    # Forward propagation\n",
        "    prediction = network.forward(x)\n",
        "\n",
        "    # Compute the loss (mean squared error)\n",
        "    loss = 0.5 * (target - prediction) ** 2\n",
        "\n",
        "    # Backward propagation\n",
        "    dz = -(target - prediction)  # Partial derivative of loss with respect to z\n",
        "    dw, db = network.backward(x, dz)\n",
        "\n",
        "    # Update weights and bias\n",
        "    network.weight -= learning_rate * dw\n",
        "    network.bias -= learning_rate * db\n",
        "\n",
        "    # Print the current loss\n",
        "    print(f\"Epoch {epoch + 1}: Loss = {loss:.4f}\")"
      ],
      "metadata": {
        "colab": {
          "base_uri": "https://localhost:8080/"
        },
        "id": "CSRGhnrCLoD3",
        "outputId": "32babff6-3210-4017-8e66-e74946fb58d4"
      },
      "execution_count": null,
      "outputs": [
        {
          "output_type": "stream",
          "name": "stdout",
          "text": [
            "Epoch 1: Loss = 5.0667\n",
            "Epoch 2: Loss = 4.5727\n",
            "Epoch 3: Loss = 4.1269\n",
            "Epoch 4: Loss = 3.7245\n",
            "Epoch 5: Loss = 3.3614\n",
            "Epoch 6: Loss = 3.0336\n",
            "Epoch 7: Loss = 2.7379\n",
            "Epoch 8: Loss = 2.4709\n",
            "Epoch 9: Loss = 2.2300\n",
            "Epoch 10: Loss = 2.0126\n"
          ]
        }
      ]
    },
    {
      "cell_type": "code",
      "source": [
        "# Step 6: Print the final weights and bias\n",
        "print(f\"Final weight: {network.weight:.4f}\")\n",
        "print(f\"Final bias: {network.bias:.4f}\")\n"
      ],
      "metadata": {
        "colab": {
          "base_uri": "https://localhost:8080/"
        },
        "id": "EPowBHNVLoHA",
        "outputId": "4790c47c-8fec-4300-b131-2605854b061b"
      },
      "execution_count": null,
      "outputs": [
        {
          "output_type": "stream",
          "name": "stdout",
          "text": [
            "Final weight: 0.7673\n",
            "Final bias: 0.5594\n"
          ]
        }
      ]
    },
    {
      "cell_type": "code",
      "source": [
        "\n",
        "\n",
        "\n",
        "\n",
        "\n",
        "\n",
        "\n",
        "\n"
      ],
      "metadata": {
        "id": "aCZ9vkhLLgzB"
      },
      "execution_count": null,
      "outputs": []
    },
    {
      "cell_type": "code",
      "source": [],
      "metadata": {
        "id": "2L-T-PTzNos_"
      },
      "execution_count": null,
      "outputs": []
    }
  ]
}
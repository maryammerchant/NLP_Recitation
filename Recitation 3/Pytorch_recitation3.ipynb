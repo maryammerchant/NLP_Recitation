{
  "nbformat": 4,
  "nbformat_minor": 0,
  "metadata": {
    "colab": {
      "provenance": []
    },
    "kernelspec": {
      "name": "python3",
      "display_name": "Python 3"
    },
    "language_info": {
      "name": "python"
    }
  },
  "cells": [
    {
      "cell_type": "code",
      "execution_count": null,
      "metadata": {
        "id": "9Vp8rr_Pmk4n"
      },
      "outputs": [],
      "source": [
        "import torch\n",
        "import torch.nn as nn\n",
        "\n",
        "\n",
        "# Import pprint, module we use for making our print statements prettier\n",
        "import pprint\n",
        "pp = pprint.PrettyPrinter()"
      ]
    },
    {
      "cell_type": "markdown",
      "source": [
        "##Part 1: Tensors\n",
        "\n",
        "**Tensors** are PyTorch's most basic building block. Each tensor is a multi-dimensional matrix; for example, a 256x256 square image might be represented by a `3x256x256` tensor, where the first dimension represents color. Here's how to create a tensor:"
      ],
      "metadata": {
        "id": "wkua55mJ0N7W"
      }
    },
    {
      "cell_type": "code",
      "source": [],
      "metadata": {
        "id": "kGGgE0Ox0O4C"
      },
      "execution_count": null,
      "outputs": []
    },
    {
      "cell_type": "markdown",
      "source": [
        "## ** Creating Tensors **\n",
        "Tensors are multi-dimensional arrays that can hold data of different types. You can create tensors in several ways:\n",
        "\n",
        "**a. From a Python List**\n",
        "You can create a tensor from a Python list:"
      ],
      "metadata": {
        "id": "gN81JuRn7aey"
      }
    },
    {
      "cell_type": "code",
      "source": [
        "# Create a 1D tensor (vector)\n",
        "tensor1d = torch.tensor([1, 2, 3])\n",
        "tensor1d\n",
        "\n",
        "\n"
      ],
      "metadata": {
        "id": "VB2a_xCU7eRU",
        "colab": {
          "base_uri": "https://localhost:8080/"
        },
        "outputId": "9132b79b-7fa4-4a0e-9976-39f35b5e5d9a"
      },
      "execution_count": null,
      "outputs": [
        {
          "output_type": "execute_result",
          "data": {
            "text/plain": [
              "tensor([1, 2, 3])"
            ]
          },
          "metadata": {},
          "execution_count": 6
        }
      ]
    },
    {
      "cell_type": "code",
      "source": [
        "list_1 = [\n",
        "    [2,3,4],\n",
        "    [4,5,6],\n",
        "    [7,8,9]\n",
        "]\n",
        "tensor_list = torch.tensor(list_1)\n",
        "tensor_list"
      ],
      "metadata": {
        "colab": {
          "base_uri": "https://localhost:8080/"
        },
        "id": "C0xU8s9tGJh8",
        "outputId": "6cd0f25a-3c24-4b6a-ef1e-0d00f6cd5608"
      },
      "execution_count": null,
      "outputs": [
        {
          "output_type": "execute_result",
          "data": {
            "text/plain": [
              "tensor([[2, 3, 4],\n",
              "        [4, 5, 6],\n",
              "        [7, 8, 9]])"
            ]
          },
          "metadata": {},
          "execution_count": 7
        }
      ]
    },
    {
      "cell_type": "code",
      "source": [
        "# Create a 2D tensor (matrix)\n",
        "tensor2d = torch.tensor([[1, 2, 3], [4, 5, 6]])\n",
        "tensor2d"
      ],
      "metadata": {
        "id": "Cllp4F-D7u_K",
        "colab": {
          "base_uri": "https://localhost:8080/"
        },
        "outputId": "44b33d2d-4ad7-4460-c37b-e1d7bc0af819"
      },
      "execution_count": null,
      "outputs": [
        {
          "output_type": "execute_result",
          "data": {
            "text/plain": [
              "tensor([[1, 2, 3],\n",
              "        [4, 5, 6]])"
            ]
          },
          "metadata": {},
          "execution_count": 8
        }
      ]
    },
    {
      "cell_type": "code",
      "source": [
        "# Create a 3D tensor\n",
        "tensor3d = torch.tensor([[[1, 2], [3, 4]], [[5, 6], [7, 8]]])\n",
        "tensor3d"
      ],
      "metadata": {
        "id": "jVirnPcN7xbf",
        "colab": {
          "base_uri": "https://localhost:8080/"
        },
        "outputId": "78fe3e8e-2973-4295-a9cd-d89808733d3e"
      },
      "execution_count": null,
      "outputs": [
        {
          "output_type": "execute_result",
          "data": {
            "text/plain": [
              "tensor([[[1, 2],\n",
              "         [3, 4]],\n",
              "\n",
              "        [[5, 6],\n",
              "         [7, 8]]])"
            ]
          },
          "metadata": {},
          "execution_count": 9
        }
      ]
    },
    {
      "cell_type": "markdown",
      "source": [
        "**b. 1. From a NumPy Array**\n",
        "\n",
        "You can also convert a NumPy array into a PyTorch tensor:"
      ],
      "metadata": {
        "id": "UQIlbczS75xt"
      }
    },
    {
      "cell_type": "code",
      "source": [
        "import numpy as np\n",
        "\n",
        "numpy_array = np.array([1, 2, 3])\n",
        "tensor_from_numpy = torch.tensor(numpy_array)\n",
        "\n",
        "print(numpy_array)\n",
        "print(tensor_from_numpy)\n",
        "\n",
        "\n"
      ],
      "metadata": {
        "id": "lfANRvrJ76zB",
        "colab": {
          "base_uri": "https://localhost:8080/"
        },
        "outputId": "73442263-3d6f-4a12-fd10-bb0a46d280f2"
      },
      "execution_count": null,
      "outputs": [
        {
          "output_type": "stream",
          "name": "stdout",
          "text": [
            "[1 2 3]\n",
            "tensor([1, 2, 3])\n"
          ]
        }
      ]
    },
    {
      "cell_type": "code",
      "source": [
        "# Or directly from a NumPy array\n",
        "tensor_direct = torch.from_numpy(numpy_array)\n",
        "tensor_direct"
      ],
      "metadata": {
        "id": "2iY7BhdJ8OyH",
        "colab": {
          "base_uri": "https://localhost:8080/"
        },
        "outputId": "1f3892a8-2d41-4dd8-9ce9-c2d9fcd8f7f1"
      },
      "execution_count": null,
      "outputs": [
        {
          "output_type": "execute_result",
          "data": {
            "text/plain": [
              "tensor([1, 2, 3])"
            ]
          },
          "metadata": {},
          "execution_count": 13
        }
      ]
    },
    {
      "cell_type": "markdown",
      "source": [
        "**b.2.Converting Tensors to NumPy Arrays**\n",
        "You can convert PyTorch tensors to NumPy arrays and vice versa:"
      ],
      "metadata": {
        "id": "rSNmL6DJ_9S2"
      }
    },
    {
      "cell_type": "code",
      "source": [
        "tensor1d"
      ],
      "metadata": {
        "colab": {
          "base_uri": "https://localhost:8080/"
        },
        "id": "BkJE0rgpN4Qn",
        "outputId": "71754b2e-33a0-4b6d-9067-603b45652a4b"
      },
      "execution_count": null,
      "outputs": [
        {
          "output_type": "execute_result",
          "data": {
            "text/plain": [
              "tensor([1, 2, 3])"
            ]
          },
          "metadata": {},
          "execution_count": 15
        }
      ]
    },
    {
      "cell_type": "code",
      "source": [
        "# Convert PyTorch tensor to NumPy array\n",
        "numpy_array = tensor1d.numpy()\n",
        "\n",
        "numpy_array\n"
      ],
      "metadata": {
        "id": "DTJz4Y0u_402",
        "colab": {
          "base_uri": "https://localhost:8080/"
        },
        "outputId": "96cd8871-da50-4950-b5c9-14782a37032f"
      },
      "execution_count": null,
      "outputs": [
        {
          "output_type": "execute_result",
          "data": {
            "text/plain": [
              "array([1, 2, 3])"
            ]
          },
          "metadata": {},
          "execution_count": 14
        }
      ]
    },
    {
      "cell_type": "code",
      "source": [
        "# Convert NumPy array to PyTorch tensor\n",
        "tensor_from_numpy = torch.from_numpy(numpy_array)\n",
        "tensor_from_numpy"
      ],
      "metadata": {
        "id": "5kDERdTd_4-Q",
        "colab": {
          "base_uri": "https://localhost:8080/"
        },
        "outputId": "a36305c8-68ce-4f69-94f6-8b7896d52557"
      },
      "execution_count": null,
      "outputs": [
        {
          "output_type": "execute_result",
          "data": {
            "text/plain": [
              "tensor([1, 2, 3])"
            ]
          },
          "metadata": {},
          "execution_count": 16
        }
      ]
    },
    {
      "cell_type": "markdown",
      "source": [
        "**c. Creating Special Tensors**\n",
        "PyTorch provides functions to create special tensors:"
      ],
      "metadata": {
        "id": "ZekXyOzj8Xlw"
      }
    },
    {
      "cell_type": "code",
      "source": [
        "# Create a tensor filled with zeros\n",
        "zeros = torch.zeros(2, 3)\n",
        "zeros\n",
        "\n"
      ],
      "metadata": {
        "id": "TxZ8m52K8ZNa",
        "colab": {
          "base_uri": "https://localhost:8080/"
        },
        "outputId": "99e705ae-70ca-40ea-b8eb-ce3a3fdee981"
      },
      "execution_count": null,
      "outputs": [
        {
          "output_type": "execute_result",
          "data": {
            "text/plain": [
              "tensor([[0., 0., 0.],\n",
              "        [0., 0., 0.]])"
            ]
          },
          "metadata": {},
          "execution_count": 17
        }
      ]
    },
    {
      "cell_type": "code",
      "source": [
        "# Create a tensor filled with ones\n",
        "ones = torch.ones(3, 2)\n",
        "ones\n",
        "\n"
      ],
      "metadata": {
        "id": "j_zURNeJ8kUy",
        "colab": {
          "base_uri": "https://localhost:8080/"
        },
        "outputId": "e6dc084c-823f-430a-c9a1-cd76098666b9"
      },
      "execution_count": null,
      "outputs": [
        {
          "output_type": "execute_result",
          "data": {
            "text/plain": [
              "tensor([[1., 1.],\n",
              "        [1., 1.],\n",
              "        [1., 1.]])"
            ]
          },
          "metadata": {},
          "execution_count": 18
        }
      ]
    },
    {
      "cell_type": "code",
      "source": [
        "# Create an identity matrix\n",
        "identity = torch.eye(3)\n",
        "identity\n",
        "\n",
        "\n"
      ],
      "metadata": {
        "id": "zreJA0fS8n1O",
        "colab": {
          "base_uri": "https://localhost:8080/"
        },
        "outputId": "06765ab5-2e44-40c6-a210-a24cf975f356"
      },
      "execution_count": null,
      "outputs": [
        {
          "output_type": "execute_result",
          "data": {
            "text/plain": [
              "tensor([[1., 0., 0.],\n",
              "        [0., 1., 0.],\n",
              "        [0., 0., 1.]])"
            ]
          },
          "metadata": {},
          "execution_count": 19
        }
      ]
    },
    {
      "cell_type": "code",
      "source": [
        "# Create a random tensor\n",
        "random_tensor = torch.rand(3, 3)\n",
        "random_tensor"
      ],
      "metadata": {
        "id": "v0SBFiQx8pkp",
        "colab": {
          "base_uri": "https://localhost:8080/"
        },
        "outputId": "737f07f7-b90e-4062-c9be-baa19bdac5b2"
      },
      "execution_count": null,
      "outputs": [
        {
          "output_type": "execute_result",
          "data": {
            "text/plain": [
              "tensor([[0.3067, 0.1583, 0.1309],\n",
              "        [0.9366, 0.2614, 0.3171],\n",
              "        [0.0413, 0.8007, 0.7239]])"
            ]
          },
          "metadata": {},
          "execution_count": 20
        }
      ]
    },
    {
      "cell_type": "markdown",
      "source": [
        "**d. Accessing Tensor Properties**\n",
        "You can access various properties of a tensor, such as its shape, data type, and more:\n",
        "\n"
      ],
      "metadata": {
        "id": "-fPlM62183mt"
      }
    },
    {
      "cell_type": "code",
      "source": [
        "tensor2d"
      ],
      "metadata": {
        "colab": {
          "base_uri": "https://localhost:8080/"
        },
        "id": "V_bD2KPBOWnG",
        "outputId": "3880c4d1-5acd-43e1-8925-eedf4f38dbe2"
      },
      "execution_count": null,
      "outputs": [
        {
          "output_type": "execute_result",
          "data": {
            "text/plain": [
              "tensor([[1, 2, 3],\n",
              "        [4, 5, 6]])"
            ]
          },
          "metadata": {},
          "execution_count": 22
        }
      ]
    },
    {
      "cell_type": "code",
      "source": [
        "# Shape of a tensor\n",
        "shape = tensor2d.shape\n",
        "shape\n",
        "\n",
        "\n"
      ],
      "metadata": {
        "id": "1iuvZQtn85XF",
        "colab": {
          "base_uri": "https://localhost:8080/"
        },
        "outputId": "9430a03c-3646-416c-8829-f843e0e08ab8"
      },
      "execution_count": null,
      "outputs": [
        {
          "output_type": "execute_result",
          "data": {
            "text/plain": [
              "torch.Size([2, 3])"
            ]
          },
          "metadata": {},
          "execution_count": 21
        }
      ]
    },
    {
      "cell_type": "code",
      "source": [
        "# Data type of a tensor\n",
        "dtype = tensor2d.dtype\n",
        "dtype\n",
        "\n"
      ],
      "metadata": {
        "id": "vo3h65Cf9ip4",
        "colab": {
          "base_uri": "https://localhost:8080/"
        },
        "outputId": "72e11efa-8fa8-473e-e6e5-08886a43b08d"
      },
      "execution_count": null,
      "outputs": [
        {
          "output_type": "execute_result",
          "data": {
            "text/plain": [
              "torch.int64"
            ]
          },
          "metadata": {},
          "execution_count": 23
        }
      ]
    },
    {
      "cell_type": "code",
      "source": [
        "# Number of dimensions\n",
        "num_dimensions = tensor2d.dim()\n",
        "num_dimensions\n",
        "\n"
      ],
      "metadata": {
        "id": "9d14IC4u9nab",
        "colab": {
          "base_uri": "https://localhost:8080/"
        },
        "outputId": "3790c4cf-7187-4b0c-c06e-5e2dc4b87d86"
      },
      "execution_count": null,
      "outputs": [
        {
          "output_type": "execute_result",
          "data": {
            "text/plain": [
              "2"
            ]
          },
          "metadata": {},
          "execution_count": 24
        }
      ]
    },
    {
      "cell_type": "code",
      "source": [
        "\n",
        "# Total number of elements in the tensor\n",
        "num_elements = tensor2d.numel()\n",
        "num_elements"
      ],
      "metadata": {
        "id": "d24KiGKw9rlL",
        "colab": {
          "base_uri": "https://localhost:8080/"
        },
        "outputId": "61c2f787-39d9-4024-887b-ac7388e14352"
      },
      "execution_count": null,
      "outputs": [
        {
          "output_type": "execute_result",
          "data": {
            "text/plain": [
              "6"
            ]
          },
          "metadata": {},
          "execution_count": 25
        }
      ]
    },
    {
      "cell_type": "markdown",
      "source": [
        "e. Tensor Operations\n",
        "You can perform various mathematical operations on tensors, such as addition, subtraction, multiplication, and more:\n",
        "\n"
      ],
      "metadata": {
        "id": "QyhlhbDE925A"
      }
    },
    {
      "cell_type": "code",
      "source": [
        "tensor1d"
      ],
      "metadata": {
        "colab": {
          "base_uri": "https://localhost:8080/"
        },
        "id": "_UDltRJEOphv",
        "outputId": "f52dbaa4-dbf1-4eaa-b3c3-ea25f45fb54a"
      },
      "execution_count": null,
      "outputs": [
        {
          "output_type": "execute_result",
          "data": {
            "text/plain": [
              "tensor([1, 2, 3])"
            ]
          },
          "metadata": {},
          "execution_count": 27
        }
      ]
    },
    {
      "cell_type": "code",
      "source": [
        "# Element-wise addition\n",
        "result_add = tensor1d + tensor1d\n",
        "result_add\n",
        "\n",
        "\n"
      ],
      "metadata": {
        "id": "CEQ_N8JL947B",
        "colab": {
          "base_uri": "https://localhost:8080/"
        },
        "outputId": "24f1a51e-b2db-4627-9588-d6f222a3b607"
      },
      "execution_count": null,
      "outputs": [
        {
          "output_type": "execute_result",
          "data": {
            "text/plain": [
              "tensor([2, 4, 6])"
            ]
          },
          "metadata": {},
          "execution_count": 26
        }
      ]
    },
    {
      "cell_type": "code",
      "source": [
        "tensor2d"
      ],
      "metadata": {
        "colab": {
          "base_uri": "https://localhost:8080/"
        },
        "id": "8G5xcE7XOtbY",
        "outputId": "2f40edcc-f9d2-464f-f6a2-4a90e2912240"
      },
      "execution_count": null,
      "outputs": [
        {
          "output_type": "execute_result",
          "data": {
            "text/plain": [
              "tensor([[1, 2, 3],\n",
              "        [4, 5, 6]])"
            ]
          },
          "metadata": {},
          "execution_count": 28
        }
      ]
    },
    {
      "cell_type": "code",
      "source": [
        "# Element-wise multiplication\n",
        "result_mul = tensor2d * 2\n",
        "result_mul\n",
        "\n"
      ],
      "metadata": {
        "id": "jnZlWK9q-B4G",
        "colab": {
          "base_uri": "https://localhost:8080/"
        },
        "outputId": "2768c9b2-f29d-4eac-b770-aaa0987d1cde"
      },
      "execution_count": null,
      "outputs": [
        {
          "output_type": "execute_result",
          "data": {
            "text/plain": [
              "tensor([[ 2,  4,  6],\n",
              "        [ 8, 10, 12]])"
            ]
          },
          "metadata": {},
          "execution_count": 30
        }
      ]
    },
    {
      "cell_type": "code",
      "source": [
        "# Matrix multiplication\n",
        "result_matmul = torch.matmul(tensor2d, torch.tensor([[2], [3], [4]]))\n",
        "result_matmul"
      ],
      "metadata": {
        "id": "7AsVGbxW-Dlo",
        "colab": {
          "base_uri": "https://localhost:8080/"
        },
        "outputId": "6da1a098-f4d7-49f2-a555-be75f9ff87e7"
      },
      "execution_count": null,
      "outputs": [
        {
          "output_type": "execute_result",
          "data": {
            "text/plain": [
              "tensor([[20],\n",
              "        [47]])"
            ]
          },
          "metadata": {},
          "execution_count": 31
        }
      ]
    },
    {
      "cell_type": "code",
      "source": [
        "# Element-wise addition\n",
        "result_add = torch.add(tensor1d, tensor1d)\n",
        "result_add\n",
        "\n",
        "\n"
      ],
      "metadata": {
        "id": "gEz5t5L0EDDd",
        "colab": {
          "base_uri": "https://localhost:8080/"
        },
        "outputId": "741212cf-cef4-484c-8b65-6027de20ca1e"
      },
      "execution_count": null,
      "outputs": [
        {
          "output_type": "execute_result",
          "data": {
            "text/plain": [
              "tensor([2, 4, 6])"
            ]
          },
          "metadata": {},
          "execution_count": 32
        }
      ]
    },
    {
      "cell_type": "code",
      "source": [
        "# Element-wise multiplication\n",
        "result_mul = torch.mul(tensor1d, 2)\n",
        "result_mul\n",
        "\n",
        "\n"
      ],
      "metadata": {
        "id": "xylvv61CE0jE",
        "colab": {
          "base_uri": "https://localhost:8080/"
        },
        "outputId": "78ee8f7f-1abd-42ee-8744-c6348008da71"
      },
      "execution_count": null,
      "outputs": [
        {
          "output_type": "execute_result",
          "data": {
            "text/plain": [
              "tensor([2, 4, 6])"
            ]
          },
          "metadata": {},
          "execution_count": 33
        }
      ]
    },
    {
      "cell_type": "code",
      "source": [
        "# Element-wise subtraction\n",
        "result_sub = torch.sub(tensor1d, torch.tensor([1, 1, 1]))\n",
        "result_sub"
      ],
      "metadata": {
        "id": "z4a6p-AbE0m3",
        "colab": {
          "base_uri": "https://localhost:8080/"
        },
        "outputId": "15ab446e-253f-4683-887b-c950b13c624e"
      },
      "execution_count": null,
      "outputs": [
        {
          "output_type": "execute_result",
          "data": {
            "text/plain": [
              "tensor([0, 1, 2])"
            ]
          },
          "metadata": {},
          "execution_count": 35
        }
      ]
    },
    {
      "cell_type": "code",
      "source": [
        "# Element-wise division\n",
        "result_div = torch.div(tensor1d, torch.tensor([2, 2, 2]))\n",
        "result_div"
      ],
      "metadata": {
        "id": "bnTmu1DdE0rp",
        "colab": {
          "base_uri": "https://localhost:8080/"
        },
        "outputId": "1586c3f8-ce7e-4ba2-ff2e-dfa5e4768e6b"
      },
      "execution_count": null,
      "outputs": [
        {
          "output_type": "execute_result",
          "data": {
            "text/plain": [
              "tensor([0.5000, 1.0000, 1.5000])"
            ]
          },
          "metadata": {},
          "execution_count": 36
        }
      ]
    },
    {
      "cell_type": "markdown",
      "source": [
        "**f. Indexing and Slicing Tensors**\n",
        "You can access individual elements or slices of a tensor using indexing and slicing, just like you would with Python lists:"
      ],
      "metadata": {
        "id": "xpe2mAP--Yv9"
      }
    },
    {
      "cell_type": "code",
      "source": [
        "tensor2d"
      ],
      "metadata": {
        "colab": {
          "base_uri": "https://localhost:8080/"
        },
        "id": "4OB1Hke6PhOG",
        "outputId": "94bd3abf-d7ed-4722-ca57-0f94d7d6ebec"
      },
      "execution_count": null,
      "outputs": [
        {
          "output_type": "execute_result",
          "data": {
            "text/plain": [
              "tensor([[1, 2, 3],\n",
              "        [4, 5, 6]])"
            ]
          },
          "metadata": {},
          "execution_count": 38
        }
      ]
    },
    {
      "cell_type": "code",
      "source": [
        "# Access an element\n",
        "element = tensor2d[1, 2]\n",
        "element\n",
        "\n",
        "\n"
      ],
      "metadata": {
        "id": "LiwLOu9Y-Xt9",
        "colab": {
          "base_uri": "https://localhost:8080/"
        },
        "outputId": "3071fdda-d3da-4d46-a998-ec81a6773f80"
      },
      "execution_count": null,
      "outputs": [
        {
          "output_type": "execute_result",
          "data": {
            "text/plain": [
              "tensor(6)"
            ]
          },
          "metadata": {},
          "execution_count": 41
        }
      ]
    },
    {
      "cell_type": "code",
      "source": [
        "# Slice a tensor\n",
        "slice = tensor2d[:, 1]  # All rows, second column\n",
        "slice"
      ],
      "metadata": {
        "id": "AtgyJ-db-l8v",
        "colab": {
          "base_uri": "https://localhost:8080/"
        },
        "outputId": "3b26dd80-c228-4513-b0d6-99dc8e9272f8"
      },
      "execution_count": null,
      "outputs": [
        {
          "output_type": "execute_result",
          "data": {
            "text/plain": [
              "tensor([2, 5])"
            ]
          },
          "metadata": {},
          "execution_count": 42
        }
      ]
    },
    {
      "cell_type": "markdown",
      "source": [
        "**g. Moving Tensors to Different Devices**\n",
        "PyTorch allows you to work with tensors on different devices, such as GPUs for faster computations. Here's how you can move tensors to GPUs:"
      ],
      "metadata": {
        "id": "GiiN4qBA_G3U"
      }
    },
    {
      "cell_type": "code",
      "source": [
        "# Check if GPU is available\n",
        "if torch.cuda.is_available():\n",
        "    # Move a tensor to the GPU\n",
        "    tensor_on_gpu = tensor1d.cuda()\n"
      ],
      "metadata": {
        "id": "Fep6TXCZ_Iqz"
      },
      "execution_count": null,
      "outputs": []
    },
    {
      "cell_type": "markdown",
      "source": [
        "**h. Reshaping Tensors**\n",
        "You can change the shape of tensors using the .view() method:"
      ],
      "metadata": {
        "id": "KNigSJCx_WD7"
      }
    },
    {
      "cell_type": "code",
      "source": [
        "tensor1d"
      ],
      "metadata": {
        "id": "9-PBiQa0_qUC",
        "colab": {
          "base_uri": "https://localhost:8080/"
        },
        "outputId": "49176ff2-7b66-4a04-88f9-ea9006998eeb"
      },
      "execution_count": null,
      "outputs": [
        {
          "output_type": "execute_result",
          "data": {
            "text/plain": [
              "tensor([1, 2, 3])"
            ]
          },
          "metadata": {},
          "execution_count": 44
        }
      ]
    },
    {
      "cell_type": "code",
      "source": [
        "# Reshape a tensor\n",
        "reshaped_tensor = tensor1d.view(1, 3)\n",
        "reshaped_tensor\n",
        "\n",
        "\n"
      ],
      "metadata": {
        "id": "Av0EeTrm_R3H",
        "colab": {
          "base_uri": "https://localhost:8080/"
        },
        "outputId": "ab19d8bd-328c-4729-bfc8-ce5f88077a9b"
      },
      "execution_count": null,
      "outputs": [
        {
          "output_type": "execute_result",
          "data": {
            "text/plain": [
              "tensor([[1, 2, 3]])"
            ]
          },
          "metadata": {},
          "execution_count": 45
        }
      ]
    },
    {
      "cell_type": "code",
      "source": [
        "tensor2d"
      ],
      "metadata": {
        "id": "o_1hWS6a_lAg",
        "colab": {
          "base_uri": "https://localhost:8080/"
        },
        "outputId": "5243bb06-6294-4c2e-ee02-14290800fa8e"
      },
      "execution_count": null,
      "outputs": [
        {
          "output_type": "execute_result",
          "data": {
            "text/plain": [
              "tensor([[1, 2, 3],\n",
              "        [4, 5, 6]])"
            ]
          },
          "metadata": {},
          "execution_count": 46
        }
      ]
    },
    {
      "cell_type": "code",
      "source": [
        "# Flatten a tensor\n",
        "flattened_tensor = tensor2d.view(-1)\n",
        "flattened_tensor"
      ],
      "metadata": {
        "id": "VFiBf8jX_hEX",
        "colab": {
          "base_uri": "https://localhost:8080/"
        },
        "outputId": "5cc2e66b-0fef-4a8f-9c9f-0469e7a453f9"
      },
      "execution_count": null,
      "outputs": [
        {
          "output_type": "execute_result",
          "data": {
            "text/plain": [
              "tensor([1, 2, 3, 4, 5, 6])"
            ]
          },
          "metadata": {},
          "execution_count": 47
        }
      ]
    },
    {
      "cell_type": "markdown",
      "source": [
        "**i. Basic Element-wise Functions**\n",
        "PyTorch provides many built-in element-wise functions, such as torch.sin(), torch.cos(), torch.exp(), and torch.log(). These functions operate on tensors element by element:"
      ],
      "metadata": {
        "id": "aeg1_H1_AXiI"
      }
    },
    {
      "cell_type": "code",
      "source": [
        "# Element-wise functions\n",
        "result = torch.sin(tensor1d)\n",
        "result\n"
      ],
      "metadata": {
        "id": "r8ZnKiJMAZ53",
        "colab": {
          "base_uri": "https://localhost:8080/"
        },
        "outputId": "2bcd65b0-787b-4c44-f807-3dad239fc7a5"
      },
      "execution_count": null,
      "outputs": [
        {
          "output_type": "execute_result",
          "data": {
            "text/plain": [
              "tensor([0.8415, 0.9093, 0.1411])"
            ]
          },
          "metadata": {},
          "execution_count": 48
        }
      ]
    },
    {
      "cell_type": "code",
      "source": [
        "result = torch.exp(tensor1d)\n",
        "result"
      ],
      "metadata": {
        "id": "3htt2yJpAd8c",
        "colab": {
          "base_uri": "https://localhost:8080/"
        },
        "outputId": "9abdbece-e402-4099-c5bb-4da1105feada"
      },
      "execution_count": null,
      "outputs": [
        {
          "output_type": "execute_result",
          "data": {
            "text/plain": [
              "tensor([ 2.7183,  7.3891, 20.0855])"
            ]
          },
          "metadata": {},
          "execution_count": 49
        }
      ]
    },
    {
      "cell_type": "markdown",
      "source": [
        "**j. Tensor Concatenation**\n",
        "You can concatenate tensors along different dimensions:"
      ],
      "metadata": {
        "id": "n1YhTLleAkt5"
      }
    },
    {
      "cell_type": "code",
      "source": [
        "# Concatenate tensors along a dimension\n",
        "concatenated_tensor = torch.cat([tensor1d, tensor1d], dim=0)  # Along rows\n",
        "concatenated_tensor"
      ],
      "metadata": {
        "id": "8O6KNndFAizu",
        "colab": {
          "base_uri": "https://localhost:8080/"
        },
        "outputId": "121ed198-1d08-43d1-a234-eb31c3543e2c"
      },
      "execution_count": null,
      "outputs": [
        {
          "output_type": "execute_result",
          "data": {
            "text/plain": [
              "tensor([1, 2, 3, 1, 2, 3])"
            ]
          },
          "metadata": {},
          "execution_count": 50
        }
      ]
    },
    {
      "cell_type": "code",
      "source": [
        "# Stacking along a new dimension\n",
        "stacked_tensors = torch.stack([tensor1d, tensor1d])\n",
        "stacked_tensors"
      ],
      "metadata": {
        "id": "N1x4RIQlFE_x",
        "colab": {
          "base_uri": "https://localhost:8080/"
        },
        "outputId": "6f40d900-aef0-4370-b3c3-4126d44f3318"
      },
      "execution_count": null,
      "outputs": [
        {
          "output_type": "execute_result",
          "data": {
            "text/plain": [
              "tensor([[1, 2, 3],\n",
              "        [1, 2, 3]])"
            ]
          },
          "metadata": {},
          "execution_count": 51
        }
      ]
    },
    {
      "cell_type": "markdown",
      "source": [
        "**k. In-Place Operations**\n",
        "Some operations can be performed in-place by adding an underscore to the method name. In-place operations modify the original tensor:"
      ],
      "metadata": {
        "id": "r0xs3P_yAu5N"
      }
    },
    {
      "cell_type": "code",
      "source": [
        "# In-place addition\n",
        "tensor1d.add_(2)  # Adds 2 to each element in tensor1d\n"
      ],
      "metadata": {
        "id": "DIXT4gT3AxSy",
        "colab": {
          "base_uri": "https://localhost:8080/"
        },
        "outputId": "26e543c2-830a-4c3d-da35-5cd717318bc1"
      },
      "execution_count": null,
      "outputs": [
        {
          "output_type": "execute_result",
          "data": {
            "text/plain": [
              "tensor([3, 4, 5])"
            ]
          },
          "metadata": {},
          "execution_count": 52
        }
      ]
    },
    {
      "cell_type": "code",
      "source": [
        "tensor1d.mul_(3)"
      ],
      "metadata": {
        "id": "mSoasB8_A0aG",
        "colab": {
          "base_uri": "https://localhost:8080/"
        },
        "outputId": "c124bdad-1811-4d98-8ca5-2c318d4cba89"
      },
      "execution_count": null,
      "outputs": [
        {
          "output_type": "execute_result",
          "data": {
            "text/plain": [
              "tensor([27, 36, 45])"
            ]
          },
          "metadata": {},
          "execution_count": 54
        }
      ]
    },
    {
      "cell_type": "code",
      "source": [
        "tensor1d.sub_(10)"
      ],
      "metadata": {
        "id": "v1QyOua7A0el",
        "colab": {
          "base_uri": "https://localhost:8080/"
        },
        "outputId": "1ad39d9c-1dce-4cf6-bd24-0cbf560dd8cc"
      },
      "execution_count": null,
      "outputs": [
        {
          "output_type": "execute_result",
          "data": {
            "text/plain": [
              "tensor([ 8, 17, 26])"
            ]
          },
          "metadata": {},
          "execution_count": 58
        }
      ]
    },
    {
      "cell_type": "code",
      "source": [
        "tensor2d.add_(1)"
      ],
      "metadata": {
        "id": "cN3gtpUmBII7",
        "colab": {
          "base_uri": "https://localhost:8080/"
        },
        "outputId": "c3be92a8-7a65-4639-b7d1-ca17d083bc23"
      },
      "execution_count": null,
      "outputs": [
        {
          "output_type": "execute_result",
          "data": {
            "text/plain": [
              "tensor([[2, 3, 4],\n",
              "        [5, 6, 7]])"
            ]
          },
          "metadata": {},
          "execution_count": 59
        }
      ]
    },
    {
      "cell_type": "markdown",
      "source": [
        "**l. Saving and Loading Tensors**\n",
        "You can save and load tensors using PyTorch's serialization functions:"
      ],
      "metadata": {
        "id": "LsXMuGukBTiX"
      }
    },
    {
      "cell_type": "code",
      "source": [
        "# Save a tensor to a file\n",
        "torch.save(tensor1d, 'tensor.pt')\n",
        "\n",
        "# Load a tensor from a file\n",
        "loaded_tensor = torch.load('tensor.pt')\n",
        "loaded_tensor"
      ],
      "metadata": {
        "id": "9Xc-A9J5BWZm"
      },
      "execution_count": null,
      "outputs": []
    },
    {
      "cell_type": "markdown",
      "source": [
        "**m. Reduction Operations**"
      ],
      "metadata": {
        "id": "YZ1aXCidFSsI"
      }
    },
    {
      "cell_type": "code",
      "source": [
        "# Sum of all elements\n",
        "total_sum = torch.sum(tensor1d)\n",
        "total_sum\n",
        "\n"
      ],
      "metadata": {
        "id": "sQ_LPLomFVGH",
        "colab": {
          "base_uri": "https://localhost:8080/"
        },
        "outputId": "683f1ac3-3563-4c5b-82ae-1c8d3ba57559"
      },
      "execution_count": null,
      "outputs": [
        {
          "output_type": "execute_result",
          "data": {
            "text/plain": [
              "tensor(51)"
            ]
          },
          "metadata": {},
          "execution_count": 60
        }
      ]
    },
    {
      "cell_type": "code",
      "source": [
        "# Mean of all elements\n",
        "mean_value = torch.mean(tensor1d)\n",
        "mean_value\n",
        "\n",
        "\n"
      ],
      "metadata": {
        "id": "EzYpRurvFeXK",
        "colab": {
          "base_uri": "https://localhost:8080/",
          "height": 250
        },
        "outputId": "b5bb9ddd-6b39-4c9b-b767-9a0030a84799"
      },
      "execution_count": null,
      "outputs": [
        {
          "output_type": "error",
          "ename": "RuntimeError",
          "evalue": "ignored",
          "traceback": [
            "\u001b[0;31m---------------------------------------------------------------------------\u001b[0m",
            "\u001b[0;31mRuntimeError\u001b[0m                              Traceback (most recent call last)",
            "\u001b[0;32m<ipython-input-61-03c661bb9e46>\u001b[0m in \u001b[0;36m<cell line: 2>\u001b[0;34m()\u001b[0m\n\u001b[1;32m      1\u001b[0m \u001b[0;31m# Mean of all elements\u001b[0m\u001b[0;34m\u001b[0m\u001b[0;34m\u001b[0m\u001b[0m\n\u001b[0;32m----> 2\u001b[0;31m \u001b[0mmean_value\u001b[0m \u001b[0;34m=\u001b[0m \u001b[0mtorch\u001b[0m\u001b[0;34m.\u001b[0m\u001b[0mmean\u001b[0m\u001b[0;34m(\u001b[0m\u001b[0mtensor1d\u001b[0m\u001b[0;34m)\u001b[0m\u001b[0;34m\u001b[0m\u001b[0;34m\u001b[0m\u001b[0m\n\u001b[0m\u001b[1;32m      3\u001b[0m \u001b[0mmean_value\u001b[0m\u001b[0;34m\u001b[0m\u001b[0;34m\u001b[0m\u001b[0m\n\u001b[1;32m      4\u001b[0m \u001b[0;34m\u001b[0m\u001b[0m\n\u001b[1;32m      5\u001b[0m \u001b[0;34m\u001b[0m\u001b[0m\n",
            "\u001b[0;31mRuntimeError\u001b[0m: mean(): could not infer output dtype. Input dtype must be either a floating point or complex dtype. Got: Long"
          ]
        }
      ]
    },
    {
      "cell_type": "code",
      "source": [
        "# Create tensor1d with dtype=float32\n",
        "tensor1d = torch.tensor([1, 2, 3], dtype=torch.float32)\n",
        "\n",
        "# Compute the mean\n",
        "mean_value = torch.mean(tensor1d)\n",
        "print(mean_value)\n"
      ],
      "metadata": {
        "id": "-_EvxZ0aGT8M",
        "colab": {
          "base_uri": "https://localhost:8080/"
        },
        "outputId": "b0ae690d-c03c-4420-ce7d-5a2adff54e3e"
      },
      "execution_count": null,
      "outputs": [
        {
          "output_type": "stream",
          "name": "stdout",
          "text": [
            "tensor(2.)\n"
          ]
        }
      ]
    },
    {
      "cell_type": "code",
      "source": [
        "# Maximum element\n",
        "max_value = torch.max(tensor1d)\n",
        "max_value"
      ],
      "metadata": {
        "id": "J4mNtd7KGbji",
        "colab": {
          "base_uri": "https://localhost:8080/"
        },
        "outputId": "2df2cdd8-c779-42d3-8833-81a5fc519c02"
      },
      "execution_count": null,
      "outputs": [
        {
          "output_type": "execute_result",
          "data": {
            "text/plain": [
              "tensor(3.)"
            ]
          },
          "metadata": {},
          "execution_count": 63
        }
      ]
    },
    {
      "cell_type": "code",
      "source": [
        "# Change the data type of tensor1d to float32 using .type()\n",
        "tensor1d = tensor1d.type(torch.float32)\n"
      ],
      "metadata": {
        "id": "eEo5IdP0HOjM"
      },
      "execution_count": null,
      "outputs": []
    },
    {
      "cell_type": "code",
      "source": [
        "# Change the data type of tensor1d to float32 using .type()\n",
        "tensor1d = tensor1d.type(torch.float32)\n"
      ],
      "metadata": {
        "id": "zh6ROSx1HTLC"
      },
      "execution_count": null,
      "outputs": []
    },
    {
      "cell_type": "code",
      "source": [
        "# Change the data type of tensor1d to float32 using .float()\n",
        "tensor1d = tensor1d.float()\n",
        "\n",
        "# Change the data type of tensor1d to double using .double()\n",
        "tensor1d = tensor1d.double()\n",
        "\n",
        "# Change the data type of tensor1d to int using .int()\n",
        "tensor1d = tensor1d.int()\n"
      ],
      "metadata": {
        "id": "wV-WL6vFHVBt"
      },
      "execution_count": null,
      "outputs": []
    }
  ]
}
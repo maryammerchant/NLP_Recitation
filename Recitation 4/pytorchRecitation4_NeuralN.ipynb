{
  "nbformat": 4,
  "nbformat_minor": 0,
  "metadata": {
    "colab": {
      "provenance": []
    },
    "kernelspec": {
      "name": "python3",
      "display_name": "Python 3"
    },
    "language_info": {
      "name": "python"
    }
  },
  "cells": [
    {
      "cell_type": "code",
      "source": [
        "import torch\n",
        "import torch.nn as nn\n",
        "import torch.optim as optim\n"
      ],
      "metadata": {
        "id": "SsBCY2BoPBB2"
      },
      "execution_count": null,
      "outputs": []
    },
    {
      "cell_type": "code",
      "source": [
        "# Define the neural network\n",
        "class FCNN(nn.Module):\n",
        "    def __init__(self):\n",
        "        super().__init__()\n",
        "        self.linear1 = nn.Linear(4, 15)\n",
        "        self.tanh = nn.Tanh()\n",
        "        self.linear2 = nn.Linear(15, 5)\n",
        "        self.relu = nn.ReLU()\n",
        "        self.linear3 = nn.Linear(5, 3)\n",
        "\n",
        "    def forward(self, x):\n",
        "        z = self.linear1(x)\n",
        "        z = self.tanh(z)\n",
        "        z = self.linear2(z)\n",
        "        z = self.relu(z)\n",
        "        z = self.linear3(z)\n",
        "        return z"
      ],
      "metadata": {
        "id": "OREWUOb4PBEZ"
      },
      "execution_count": null,
      "outputs": []
    },
    {
      "cell_type": "code",
      "source": [
        "# Create an instance of the neural network\n",
        "model = FCNN()"
      ],
      "metadata": {
        "id": "yob8nJ0xPBHL"
      },
      "execution_count": null,
      "outputs": []
    },
    {
      "cell_type": "code",
      "source": [
        "# Define the input data\n",
        "X = torch.rand(3, 4)  # 3 samples, 4 features"
      ],
      "metadata": {
        "id": "AA90XchIPBJy"
      },
      "execution_count": null,
      "outputs": []
    },
    {
      "cell_type": "code",
      "source": [
        "# Define the target labels (y)\n",
        "y = torch.tensor([2, 0, 1], dtype=torch.long)  # Assuming it's a classification task with 3 classes"
      ],
      "metadata": {
        "id": "KYWq3Y7jPWQD"
      },
      "execution_count": null,
      "outputs": []
    },
    {
      "cell_type": "code",
      "source": [
        "# Define loss function and optimizer\n",
        "criterion = nn.CrossEntropyLoss()  # Cross-entropy loss for classification\n",
        "optimizer = optim.SGD(model.parameters(), lr=0.01)"
      ],
      "metadata": {
        "id": "CYlwTEl5PWSq"
      },
      "execution_count": null,
      "outputs": []
    },
    {
      "cell_type": "code",
      "source": [
        "# Training loop\n",
        "num_epochs = 10\n",
        "for epoch in range(num_epochs):\n",
        "    # Forward pass\n",
        "    outputs = model(X)\n",
        "    loss = criterion(outputs, y)\n",
        "\n",
        "    # Backward pass and optimization\n",
        "    optimizer.zero_grad()\n",
        "    loss.backward()\n",
        "    optimizer.step()\n",
        "\n",
        "    if (epoch + 1) % 1 == 0:\n",
        "        print(f'Epoch [{epoch+1}/{num_epochs}], Loss: {loss.item()}')"
      ],
      "metadata": {
        "colab": {
          "base_uri": "https://localhost:8080/"
        },
        "id": "k7ktAF1_PWVK",
        "outputId": "1bbf43d6-abd8-46cd-c064-aa3ab1b93f84"
      },
      "execution_count": null,
      "outputs": [
        {
          "output_type": "stream",
          "name": "stdout",
          "text": [
            "Epoch [1/10], Loss: 1.1598097085952759\n",
            "Epoch [2/10], Loss: 1.1590062379837036\n",
            "Epoch [3/10], Loss: 1.1582106351852417\n",
            "Epoch [4/10], Loss: 1.157422661781311\n",
            "Epoch [5/10], Loss: 1.1566423177719116\n",
            "Epoch [6/10], Loss: 1.1558692455291748\n",
            "Epoch [7/10], Loss: 1.1551036834716797\n",
            "Epoch [8/10], Loss: 1.1543453931808472\n",
            "Epoch [9/10], Loss: 1.1535942554473877\n",
            "Epoch [10/10], Loss: 1.1528502702713013\n"
          ]
        }
      ]
    },
    {
      "cell_type": "code",
      "source": [
        "# Inference\n",
        "model.eval()  # Set the model to evaluation mode\n",
        "with torch.no_grad():\n",
        "    test_sample = torch.rand(1, 4)  # Replace this with your test data\n",
        "    predicted = model(test_sample)\n",
        "    predicted_class = torch.argmax(predicted, dim=1)\n",
        "    print(f'Predicted class: {predicted_class.item()}')"
      ],
      "metadata": {
        "colab": {
          "base_uri": "https://localhost:8080/"
        },
        "id": "k6ZXW-ZIPWak",
        "outputId": "7c19a61d-0a5e-4554-8f4b-1e3e0ee733b8"
      },
      "execution_count": null,
      "outputs": [
        {
          "output_type": "stream",
          "name": "stdout",
          "text": [
            "Predicted class: 2\n"
          ]
        }
      ]
    },
    {
      "cell_type": "code",
      "source": [
        "#Relu function or any function  no need to initiate\n",
        "import torch\n",
        "import torch.nn as F\n",
        "class FCNN(nn.Module):\n",
        "    def __init__(self):\n",
        "        super().__init__()\n",
        "        self.linear1 = nn.Linear(4,15)\n",
        "        self.tanh = nn.Tanh()\n",
        "        self.linear2 = nn.Linear(15,5)\n",
        "        #self.relu = nn.ReLU()\n",
        "        self.linear3 = nn.Linear(5,3)\n",
        "\n",
        "\n",
        "    def forward(self,x):\n",
        "        z = self.linear1.forward(x)\n",
        "        z = self.tanh(z)\n",
        "        z = self.linear2(z)\n",
        "        z = F.relu\n",
        "        z = self.linear3(z)\n",
        "        return z"
      ],
      "metadata": {
        "id": "1nt3Zhz1PWdL"
      },
      "execution_count": null,
      "outputs": []
    },
    {
      "cell_type": "code",
      "source": [
        "import torch\n",
        "import torch.nn as nn\n",
        "import torch.optim as optim"
      ],
      "metadata": {
        "id": "Xt83jSVmZWcL"
      },
      "execution_count": null,
      "outputs": []
    },
    {
      "cell_type": "code",
      "source": [
        "# defining Neural network\n",
        "class FCNN(nn.Module):\n",
        "  def __init__(self):\n",
        "    super().__init__()\n",
        "    self.linear1 = nn.Linear(4,15)\n",
        "    self.tanh  = nn.Tanh()\n",
        "    self.linear2 = nn.Linear(15,3)"
      ],
      "metadata": {
        "id": "uG7vj2ymZixe"
      },
      "execution_count": null,
      "outputs": []
    }
  ]
}
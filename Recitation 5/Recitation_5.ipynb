{
  "nbformat": 4,
  "nbformat_minor": 0,
  "metadata": {
    "colab": {
      "provenance": []
    },
    "kernelspec": {
      "name": "python3",
      "display_name": "Python 3"
    },
    "language_info": {
      "name": "python"
    }
  },
  "cells": [
    {
      "cell_type": "code",
      "execution_count": null,
      "metadata": {
        "id": "yyYDELgFoMh8"
      },
      "outputs": [],
      "source": [
        "# Sample text\n",
        "text = \"Language is a structured system of communication that consists of grammar and vocabulary. It is the primary means by which humans convey meaning, both in spoken and written forms, and may also be conveyed through sign languages.\"\n",
        "\n",
        "# Tokenize the text into words\n",
        "words = text.split()\n",
        "\n",
        "# Create bigrams\n",
        "bigrams = [(words[i], words[i+1]) for i in range(len(words) - 1)]\n",
        "\n",
        "# Calculate the frequency distribution of bigrams\n",
        "from collections import Counter\n",
        "bigram_freq = Counter(bigrams)\n",
        "\n",
        "# Predict the next word\n",
        "target_word = \"of\"\n",
        "next_word_candidates = [bigram[1] for bigram in bigrams if bigram[0] == target_word]\n",
        "print(f\"Next word candidates after '{target_word}': {next_word_candidates}\")\n"
      ]
    },
    {
      "cell_type": "markdown",
      "source": [
        "N-gram models: In each code snippet, we tokenize the text into words and then create n-grams by iterating through the words and combining them in the specified sequence (unigrams, bigrams, trigrams, and four-grams). The result is a list of n-grams that represent different levels of context and relationships between words in the text.\n"
      ],
      "metadata": {
        "id": "R35zhAGTpTR_"
      }
    },
    {
      "cell_type": "markdown",
      "source": [
        "Unigram"
      ],
      "metadata": {
        "id": "ENO-Xj4rrhRJ"
      }
    },
    {
      "cell_type": "code",
      "source": [
        "# Sample text\n",
        "text = \"This is a simple example of a fixed window model. It considers a window of three consecutive words.\"\n",
        "\n",
        "# Tokenize the text into words (unigrams)\n",
        "unigrams = text.split()\n",
        "\n",
        "# Print unigrams\n",
        "print(\"Unigrams:\")\n",
        "for unigram in unigrams:\n",
        "    print(unigram)\n"
      ],
      "metadata": {
        "id": "Nu37qLx4o-vS"
      },
      "execution_count": null,
      "outputs": []
    },
    {
      "cell_type": "markdown",
      "source": [
        "Bigrams"
      ],
      "metadata": {
        "id": "zDiaP_Wxrj7W"
      }
    },
    {
      "cell_type": "code",
      "source": [
        "# Sample text\n",
        "text = \"This is a simple example of a fixed window model. It considers a window of three consecutive words.\"\n",
        "\n",
        "# Tokenize the text into words\n",
        "words = text.split()\n",
        "\n",
        "# Create bigrams\n",
        "bigrams = [(words[i], words[i+1]) for i in range(len(words) - 1)]\n",
        "\n",
        "# Print bigrams\n",
        "print(\"Bigrams:\")\n",
        "for bigram in bigrams:\n",
        "    print(bigram)\n"
      ],
      "metadata": {
        "id": "3X-h1rp1pCFP"
      },
      "execution_count": null,
      "outputs": []
    },
    {
      "cell_type": "markdown",
      "source": [
        "Trigram"
      ],
      "metadata": {
        "id": "_9QHOzx7rn0p"
      }
    },
    {
      "cell_type": "code",
      "source": [
        "# Sample text\n",
        "text = \"This is a simple example of a fixed window model. It considers a window of three consecutive words.\"\n",
        "\n",
        "# Tokenize the text into words\n",
        "words = text.split()\n",
        "\n",
        "# Create trigrams using a sliding window\n",
        "trigrams = [(words[i], words[i+1], words[i+2]) for i in range(len(words) - 2)]\n",
        "\n",
        "# Print trigrams\n",
        "print(\"Trigrams:\")\n",
        "for trigram in trigrams:\n",
        "    print(trigram)\n"
      ],
      "metadata": {
        "id": "eSwrLog8pFcu"
      },
      "execution_count": null,
      "outputs": []
    },
    {
      "cell_type": "markdown",
      "source": [
        "four-gram"
      ],
      "metadata": {
        "id": "TM57QA1TrqWe"
      }
    },
    {
      "cell_type": "code",
      "source": [
        "# Sample text\n",
        "text = \"This is a simple example of a fixed window model. It considers a window of three consecutive words.\"\n",
        "\n",
        "# Tokenize the text into words\n",
        "words = text.split()\n",
        "\n",
        "# Create four-grams using a sliding window\n",
        "four_grams = [(words[i], words[i+1], words[i+2], words[i+3]) for i in range(len(words) - 3)]\n",
        "\n",
        "# Print four-grams\n",
        "print(\"Four-grams:\")\n",
        "for four_gram in four_grams:\n",
        "    print(four_gram)\n"
      ],
      "metadata": {
        "id": "qB40VnSepIQX"
      },
      "execution_count": null,
      "outputs": []
    },
    {
      "cell_type": "code",
      "source": [
        "# Sample text\n",
        "text = \"This is a simple example of a fixed window.\"\n",
        "\n",
        "# Tokenize the text into words\n",
        "words = text.split()\n",
        "\n",
        "# Generate next words for bigrams, trigrams, and four-grams\n",
        "next_words_bigrams = {}\n",
        "next_words_trigrams = {}\n",
        "next_words_fourgrams = {}\n",
        "\n",
        "for i in range(len(words) - 1):\n",
        "    current_bigram = (words[i], words[i + 1])\n",
        "    next_words_bigrams.setdefault(current_bigram, []).append(words[i + 2] if i + 2 < len(words) else None)\n",
        "\n",
        "for i in range(len(words) - 2):\n",
        "    current_trigram = (words[i], words[i + 1], words[i + 2])\n",
        "    next_words_trigrams.setdefault(current_trigram, []).append(words[i + 3] if i + 3 < len(words) else None)\n",
        "\n",
        "for i in range(len(words) - 3):\n",
        "    current_fourgram = (words[i], words[i + 1], words[i + 2], words[i + 3])\n",
        "    next_words_fourgrams.setdefault(current_fourgram, []).append(words[i + 4] if i + 4 < len(words) else None)\n",
        "\n",
        "# Print next words for bigrams, trigrams, and four-grams\n",
        "print(\"Next words for Bigrams:\")\n",
        "for bigram, next_words in next_words_bigrams.items():\n",
        "    print(f\"After {bigram}: {next_words}\")\n",
        "\n",
        "print(\"\\nNext words for Trigrams:\")\n",
        "for trigram, next_words in next_words_trigrams.items():\n",
        "    print(f\"After {trigram}: {next_words}\")\n",
        "\n",
        "print(\"\\nNext words for Four-grams:\")\n",
        "for fourgram, next_words in next_words_fourgrams.items():\n",
        "    print(f\"After {fourgram}: {next_words}\")\n"
      ],
      "metadata": {
        "id": "W97Cfs9iot6a"
      },
      "execution_count": null,
      "outputs": []
    }
  ]
}